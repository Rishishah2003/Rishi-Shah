{
  "nbformat": 4,
  "nbformat_minor": 0,
  "metadata": {
    "colab": {
      "provenance": [],
      "authorship_tag": "ABX9TyPldeZxyLWVglvNv1rXo5zb",
      "include_colab_link": true
    },
    "kernelspec": {
      "name": "python3",
      "display_name": "Python 3"
    },
    "language_info": {
      "name": "python"
    }
  },
  "cells": [
    {
      "cell_type": "markdown",
      "metadata": {
        "id": "view-in-github",
        "colab_type": "text"
      },
      "source": [
        "<a href=\"https://colab.research.google.com/github/Rishishah2003/Rishi-Shah/blob/main/ISP_Full.ipynb\" target=\"_parent\"><img src=\"https://colab.research.google.com/assets/colab-badge.svg\" alt=\"Open In Colab\"/></a>"
      ]
    },
    {
      "cell_type": "markdown",
      "source": [
        "Caeser Cipher"
      ],
      "metadata": {
        "id": "MyopsbQNbk79"
      }
    },
    {
      "cell_type": "code",
      "execution_count": null,
      "metadata": {
        "colab": {
          "base_uri": "https://localhost:8080/"
        },
        "id": "SZEyF2RAapJ_",
        "outputId": "f36f0c60-fb2e-4d50-8dbf-5d10456fb572"
      },
      "outputs": [
        {
          "output_type": "stream",
          "name": "stdout",
          "text": [
            "b is greater than a\n"
          ]
        }
      ],
      "source": [
        "a= 33\n",
        "b=200\n",
        "if b>a:\n",
        "  print(\"b is greater than a\")"
      ]
    },
    {
      "cell_type": "code",
      "source": [
        "num=float(input(\"Enter the number: \"))\n",
        "if num>0:\n",
        "  print(\"Positive number\")\n",
        "elif num==0:\n",
        "  print(\"Zero\")\n",
        "elif num<0:\n",
        "  print(\"Negative Number\")"
      ],
      "metadata": {
        "colab": {
          "base_uri": "https://localhost:8080/"
        },
        "id": "RrdKlJbda-zp",
        "outputId": "49907755-f94b-44d6-f3eb-a277b17a7ef3"
      },
      "execution_count": null,
      "outputs": [
        {
          "output_type": "stream",
          "name": "stdout",
          "text": [
            "Enter the number: 26\n",
            "Positive number\n"
          ]
        }
      ]
    },
    {
      "cell_type": "code",
      "source": [
        "for i in range(0,5):\n",
        "  print (i)\n",
        "  print(\"Hi, how are you\")"
      ],
      "metadata": {
        "colab": {
          "base_uri": "https://localhost:8080/"
        },
        "id": "78QUdO0vbCJW",
        "outputId": "ca163e82-16dc-4e4e-84b3-e7ae8a3568ba"
      },
      "execution_count": null,
      "outputs": [
        {
          "output_type": "stream",
          "name": "stdout",
          "text": [
            "0\n",
            "Hi, how are you\n",
            "1\n",
            "Hi, how are you\n",
            "2\n",
            "Hi, how are you\n",
            "3\n",
            "Hi, how are you\n",
            "4\n",
            "Hi, how are you\n"
          ]
        }
      ]
    },
    {
      "cell_type": "code",
      "source": [
        "text=\"MBA TECH\"\n",
        "for i in range(len(text)):\n",
        "  print(text[i])"
      ],
      "metadata": {
        "colab": {
          "base_uri": "https://localhost:8080/"
        },
        "id": "u0bk7t1EbEj6",
        "outputId": "e685da98-d62d-4818-a239-9957ba3a04bc"
      },
      "execution_count": null,
      "outputs": [
        {
          "output_type": "stream",
          "name": "stdout",
          "text": [
            "M\n",
            "B\n",
            "A\n",
            " \n",
            "T\n",
            "E\n",
            "C\n",
            "H\n"
          ]
        }
      ]
    },
    {
      "cell_type": "code",
      "source": [
        "def sum(arg1, arg2):\n",
        "  total= arg1 + arg2\n",
        "  print (\"Inside the function: \", total)\n",
        "  return total\n",
        "total= sum(10,5)\n",
        "print(\"Outside the function: \", total)"
      ],
      "metadata": {
        "colab": {
          "base_uri": "https://localhost:8080/"
        },
        "id": "VphUMjyebGiv",
        "outputId": "e1435c9d-efb0-479c-f1d5-c3f4dbdf7e77"
      },
      "execution_count": null,
      "outputs": [
        {
          "output_type": "stream",
          "name": "stdout",
          "text": [
            "Inside the function:  15\n",
            "Outside the function:  15\n"
          ]
        }
      ]
    },
    {
      "cell_type": "code",
      "source": [
        "text=str(input(\"Enter the word: \"))\n",
        "shift=int(input(\"Enter the key: \"))\n",
        "result=' '\n",
        "for i in range(len(text)):\n",
        "  char= text[i]\n",
        "  print(\"Original char\",char)\n",
        "  result= result+chr((ord(char)+shift-65)%26+65)\n",
        "  print(\"Corresponding cipher\",result[i])\n",
        "  print(\"______________________________________\")\n",
        "print (\"Final Result\",result)"
      ],
      "metadata": {
        "colab": {
          "base_uri": "https://localhost:8080/"
        },
        "id": "U2I-P9jPbHsq",
        "outputId": "79283464-56d0-4c8a-cd66-b2f6b2c16880"
      },
      "execution_count": null,
      "outputs": [
        {
          "output_type": "stream",
          "name": "stdout",
          "text": [
            "Enter the word: Rishi\n",
            "Enter the key: 3\n",
            "Original char R\n",
            "Corresponding cipher  \n",
            "______________________________________\n",
            "Original char i\n",
            "Corresponding cipher U\n",
            "______________________________________\n",
            "Original char s\n",
            "Corresponding cipher R\n",
            "______________________________________\n",
            "Original char h\n",
            "Corresponding cipher B\n",
            "______________________________________\n",
            "Original char i\n",
            "Corresponding cipher Q\n",
            "______________________________________\n",
            "Final Result  URBQR\n"
          ]
        }
      ]
    },
    {
      "cell_type": "code",
      "source": [
        "text=str(input(\"Enter the word: \"))\n",
        "shift=int(input(\"Enter the key: \"))\n",
        "result=' '\n",
        "for i in range(len(text)):\n",
        "  char= text[i]\n",
        "  print(\"Original char\",char)\n",
        "  result= result+chr((ord(char)+shift-97)%26+97)\n",
        "  print(\"Corresponding cipher\",result[i])\n",
        "  print(\"______________________________________\")\n",
        "print (\"Final Result\",result)"
      ],
      "metadata": {
        "colab": {
          "base_uri": "https://localhost:8080/"
        },
        "id": "mtl-PKA6bKMN",
        "outputId": "b155fb17-f822-48f7-d082-2cf72a628fb9"
      },
      "execution_count": null,
      "outputs": [
        {
          "output_type": "stream",
          "name": "stdout",
          "text": [
            "Enter the word: shah\n",
            "Enter the key: 3\n",
            "Original char s\n",
            "Corresponding cipher  \n",
            "______________________________________\n",
            "Original char h\n",
            "Corresponding cipher v\n",
            "______________________________________\n",
            "Original char a\n",
            "Corresponding cipher k\n",
            "______________________________________\n",
            "Original char h\n",
            "Corresponding cipher d\n",
            "______________________________________\n",
            "Final Result  vkdk\n"
          ]
        }
      ]
    },
    {
      "cell_type": "markdown",
      "source": [
        "Vernam Cipher"
      ],
      "metadata": {
        "id": "JJgTbIjTbQAT"
      }
    },
    {
      "cell_type": "code",
      "source": [
        "# function to apply algo of vernam cipher\n",
        "def vernam(plain_text,key):\n",
        "  #convert into lowercases and remove space\n",
        "  plain_text= plain_text.replace(\" \",\"\")\n",
        "  key= key.replace(\" \",\"\")\n",
        "  plain_text= plain_text.lower()\n",
        "  key= key.lower()\n",
        "#checking if thye length are equal\n",
        "  if (len(plain_text)!=len(key)):\n",
        "    print(\"Length are different\")\n",
        "  else:\n",
        "    print(\"Length is equal\")\n",
        "#Logic\n",
        "    cipher_text=\"\"\n",
        "#iterating through the length\n",
        "    for i in range(len(plain_text)):\n",
        "      k1= ord(plain_text[i])-97\n",
        "      k2= ord(key[i])-97\n",
        "      s= chr((k1+k2)%26+97)\n",
        "      cipher_text+=s\n",
        "    print(\"Enrypted message is: \",cipher_text)\n",
        "\n",
        "plain_text=input(\"Enter the message: \")\n",
        "key= input(\"Enter the one time pad: \")\n",
        "vernam(plain_text,key)"
      ],
      "metadata": {
        "colab": {
          "base_uri": "https://localhost:8080/"
        },
        "id": "t59hMX_LbrCu",
        "outputId": "00c0061c-e6b1-4475-feea-6f306facc1e3"
      },
      "execution_count": null,
      "outputs": [
        {
          "output_type": "stream",
          "name": "stdout",
          "text": [
            "Enter the message: six\n",
            "Enter the one time pad: mix\n",
            "Length is equal\n",
            "Enrypted message is:  equ\n"
          ]
        }
      ]
    },
    {
      "cell_type": "markdown",
      "source": [
        "Keyword Cipher"
      ],
      "metadata": {
        "id": "q4_Y4SLqcBUm"
      }
    },
    {
      "cell_type": "code",
      "source": [
        "message=\"Attack at dawn\"\n",
        "keyword=\"Star War\"\n",
        "ciphertext=\"\""
      ],
      "metadata": {
        "id": "fUpN07UncFHZ"
      },
      "execution_count": null,
      "outputs": []
    },
    {
      "cell_type": "code",
      "source": [
        "#stores as uppercase\n",
        "all_alphabets=[]\n",
        "for i in range (65,91):\n",
        "  all_alphabets.append(chr(i))\n",
        "print(all_alphabets)"
      ],
      "metadata": {
        "colab": {
          "base_uri": "https://localhost:8080/"
        },
        "id": "we7dm7Y3cG0X",
        "outputId": "60e4cd6d-cb20-46f8-c6dd-24b045cdc163"
      },
      "execution_count": null,
      "outputs": [
        {
          "output_type": "stream",
          "name": "stdout",
          "text": [
            "['A', 'B', 'C', 'D', 'E', 'F', 'G', 'H', 'I', 'J', 'K', 'L', 'M', 'N', 'O', 'P', 'Q', 'R', 'S', 'T', 'U', 'V', 'W', 'X', 'Y', 'Z']\n"
          ]
        }
      ]
    },
    {
      "cell_type": "code",
      "source": [
        "#converts message to list\n",
        "msg=[]\n",
        "for i in message:\n",
        "  msg.append(i.upper())"
      ],
      "metadata": {
        "id": "A0251tvAcLef"
      },
      "execution_count": null,
      "outputs": []
    },
    {
      "cell_type": "code",
      "source": [
        "print(msg)"
      ],
      "metadata": {
        "colab": {
          "base_uri": "https://localhost:8080/"
        },
        "id": "4x_SwBW-cN_i",
        "outputId": "80a61c2b-f54c-4655-f800-186a3407d66e"
      },
      "execution_count": null,
      "outputs": [
        {
          "output_type": "stream",
          "name": "stdout",
          "text": [
            "['A', 'T', 'T', 'A', 'C', 'K', ' ', 'A', 'T', ' ', 'D', 'A', 'W', 'N']\n"
          ]
        }
      ]
    },
    {
      "cell_type": "code",
      "source": [
        "keyword1= keyword.upper()"
      ],
      "metadata": {
        "id": "4b1LRgSrcOsN"
      },
      "execution_count": null,
      "outputs": []
    },
    {
      "cell_type": "code",
      "source": [
        "#removes default elements\n",
        "#remove duplicates\n",
        "def duplicates(list):\n",
        "  key=[]\n",
        "  for i in list:\n",
        "    if i not in key:\n",
        "      key.append(i)\n",
        "  return key"
      ],
      "metadata": {
        "id": "4YmsPh2FcQ-R"
      },
      "execution_count": null,
      "outputs": []
    },
    {
      "cell_type": "code",
      "source": [
        "keyword1= duplicates(keyword1)\n",
        "print(\"Keyword after removing duplicate\",keyword1)"
      ],
      "metadata": {
        "colab": {
          "base_uri": "https://localhost:8080/"
        },
        "id": "I4hF0H_fcUki",
        "outputId": "68adb505-759c-4e67-a051-0afc1f1c4828"
      },
      "execution_count": null,
      "outputs": [
        {
          "output_type": "stream",
          "name": "stdout",
          "text": [
            "Keyword after removing duplicate ['S', 'T', 'A', 'R', ' ', 'W']\n"
          ]
        }
      ]
    },
    {
      "cell_type": "code",
      "source": [
        "#stores encyption list\n",
        "encrypting= duplicates(keyword1 + all_alphabets)\n",
        "print(\"Encrypting text is\", encrypting)\n",
        "#removes spaces from the encryption list\n",
        "for i in encrypting:\n",
        "  if(i==' '):\n",
        "    encrypting.remove(' ')"
      ],
      "metadata": {
        "colab": {
          "base_uri": "https://localhost:8080/"
        },
        "id": "qqk5feIlcW_T",
        "outputId": "27073623-b9ea-4756-a177-a3d7e19d319e"
      },
      "execution_count": null,
      "outputs": [
        {
          "output_type": "stream",
          "name": "stdout",
          "text": [
            "Encrypting text is ['S', 'T', 'A', 'R', ' ', 'W', 'B', 'C', 'D', 'E', 'F', 'G', 'H', 'I', 'J', 'K', 'L', 'M', 'N', 'O', 'P', 'Q', 'U', 'V', 'X', 'Y', 'Z']\n"
          ]
        }
      ]
    },
    {
      "cell_type": "code",
      "source": [
        "#maps eachy element of the message to the encryption list and stores it in cipher\n",
        "for i in range(len(msg)):\n",
        "  if (msg[i]!=' '):\n",
        "    ciphertext= ciphertext + encrypting[all_alphabets.index(msg[i])]\n",
        "  else:\n",
        "    ciphertext= ciphertext+' '"
      ],
      "metadata": {
        "id": "3d1BercbcZtZ"
      },
      "execution_count": null,
      "outputs": []
    },
    {
      "cell_type": "code",
      "source": [
        "print(\"Keyword: \", keyword)\n",
        "print(\"Message before ciphering:: \", message)\n",
        "print(\"Ciphered Text: \", ciphertext)"
      ],
      "metadata": {
        "colab": {
          "base_uri": "https://localhost:8080/"
        },
        "id": "13rBDOYiceNC",
        "outputId": "e6e89527-7683-474c-efb6-eeff47050864"
      },
      "execution_count": null,
      "outputs": [
        {
          "output_type": "stream",
          "name": "stdout",
          "text": [
            "Keyword:  Star War\n",
            "Message before ciphering::  Attack at dawn\n",
            "Ciphered Text:  SPPSAG SP RSVJ\n"
          ]
        }
      ]
    },
    {
      "cell_type": "markdown",
      "source": [
        "Lambda Function"
      ],
      "metadata": {
        "id": "eH9lP4cwctTl"
      }
    },
    {
      "cell_type": "code",
      "source": [
        "list_1=[1,2,3,4,5,6]\n",
        "list(filter(lambda x: x%2==0, list_1))"
      ],
      "metadata": {
        "colab": {
          "base_uri": "https://localhost:8080/"
        },
        "id": "Ml-bc72pcwjS",
        "outputId": "7178eeb5-bd06-4396-bd77-7f3e1a898051"
      },
      "execution_count": null,
      "outputs": [
        {
          "output_type": "execute_result",
          "data": {
            "text/plain": [
              "[2, 4, 6]"
            ]
          },
          "metadata": {},
          "execution_count": 21
        }
      ]
    },
    {
      "cell_type": "code",
      "source": [
        "list1= [1,2,3,4,5,6,7,8]\n",
        "cubed= map(lambda x: pow(x,3),list1)\n",
        "list(cubed)"
      ],
      "metadata": {
        "colab": {
          "base_uri": "https://localhost:8080/"
        },
        "id": "aDjixc4mc0ii",
        "outputId": "3e0ac686-9fa8-4454-a19e-702ff842fe84"
      },
      "execution_count": null,
      "outputs": [
        {
          "output_type": "execute_result",
          "data": {
            "text/plain": [
              "[1, 8, 27, 64, 125, 216, 343, 512]"
            ]
          },
          "metadata": {},
          "execution_count": 20
        }
      ]
    },
    {
      "cell_type": "code",
      "source": [
        "import pandas as pd\n",
        "df= pd.DataFrame({\n",
        "    'Name':['Luke','Gina','Sam','Emma'],\n",
        "    'Status':['Father','Mother','Son','Daughter'],\n",
        "    'Birthyear':[1976,1984,2013,2016],\n",
        "})"
      ],
      "metadata": {
        "id": "eYM5p4NtdA2v"
      },
      "execution_count": null,
      "outputs": []
    },
    {
      "cell_type": "code",
      "source": [
        "df"
      ],
      "metadata": {
        "colab": {
          "base_uri": "https://localhost:8080/",
          "height": 175
        },
        "id": "QgkW2eSndEUM",
        "outputId": "8ae7df31-b5e6-4718-efcd-0749944dfb5b"
      },
      "execution_count": null,
      "outputs": [
        {
          "output_type": "execute_result",
          "data": {
            "text/plain": [
              "   Name    Status  Birthyear\n",
              "0  Luke    Father       1976\n",
              "1  Gina    Mother       1984\n",
              "2   Sam       Son       2013\n",
              "3  Emma  Daughter       2016"
            ],
            "text/html": [
              "\n",
              "  <div id=\"df-d54e5d5d-5263-4ef6-b597-07e71181258a\">\n",
              "    <div class=\"colab-df-container\">\n",
              "      <div>\n",
              "<style scoped>\n",
              "    .dataframe tbody tr th:only-of-type {\n",
              "        vertical-align: middle;\n",
              "    }\n",
              "\n",
              "    .dataframe tbody tr th {\n",
              "        vertical-align: top;\n",
              "    }\n",
              "\n",
              "    .dataframe thead th {\n",
              "        text-align: right;\n",
              "    }\n",
              "</style>\n",
              "<table border=\"1\" class=\"dataframe\">\n",
              "  <thead>\n",
              "    <tr style=\"text-align: right;\">\n",
              "      <th></th>\n",
              "      <th>Name</th>\n",
              "      <th>Status</th>\n",
              "      <th>Birthyear</th>\n",
              "    </tr>\n",
              "  </thead>\n",
              "  <tbody>\n",
              "    <tr>\n",
              "      <th>0</th>\n",
              "      <td>Luke</td>\n",
              "      <td>Father</td>\n",
              "      <td>1976</td>\n",
              "    </tr>\n",
              "    <tr>\n",
              "      <th>1</th>\n",
              "      <td>Gina</td>\n",
              "      <td>Mother</td>\n",
              "      <td>1984</td>\n",
              "    </tr>\n",
              "    <tr>\n",
              "      <th>2</th>\n",
              "      <td>Sam</td>\n",
              "      <td>Son</td>\n",
              "      <td>2013</td>\n",
              "    </tr>\n",
              "    <tr>\n",
              "      <th>3</th>\n",
              "      <td>Emma</td>\n",
              "      <td>Daughter</td>\n",
              "      <td>2016</td>\n",
              "    </tr>\n",
              "  </tbody>\n",
              "</table>\n",
              "</div>\n",
              "      <button class=\"colab-df-convert\" onclick=\"convertToInteractive('df-d54e5d5d-5263-4ef6-b597-07e71181258a')\"\n",
              "              title=\"Convert this dataframe to an interactive table.\"\n",
              "              style=\"display:none;\">\n",
              "        \n",
              "  <svg xmlns=\"http://www.w3.org/2000/svg\" height=\"24px\"viewBox=\"0 0 24 24\"\n",
              "       width=\"24px\">\n",
              "    <path d=\"M0 0h24v24H0V0z\" fill=\"none\"/>\n",
              "    <path d=\"M18.56 5.44l.94 2.06.94-2.06 2.06-.94-2.06-.94-.94-2.06-.94 2.06-2.06.94zm-11 1L8.5 8.5l.94-2.06 2.06-.94-2.06-.94L8.5 2.5l-.94 2.06-2.06.94zm10 10l.94 2.06.94-2.06 2.06-.94-2.06-.94-.94-2.06-.94 2.06-2.06.94z\"/><path d=\"M17.41 7.96l-1.37-1.37c-.4-.4-.92-.59-1.43-.59-.52 0-1.04.2-1.43.59L10.3 9.45l-7.72 7.72c-.78.78-.78 2.05 0 2.83L4 21.41c.39.39.9.59 1.41.59.51 0 1.02-.2 1.41-.59l7.78-7.78 2.81-2.81c.8-.78.8-2.07 0-2.86zM5.41 20L4 18.59l7.72-7.72 1.47 1.35L5.41 20z\"/>\n",
              "  </svg>\n",
              "      </button>\n",
              "      \n",
              "  <style>\n",
              "    .colab-df-container {\n",
              "      display:flex;\n",
              "      flex-wrap:wrap;\n",
              "      gap: 12px;\n",
              "    }\n",
              "\n",
              "    .colab-df-convert {\n",
              "      background-color: #E8F0FE;\n",
              "      border: none;\n",
              "      border-radius: 50%;\n",
              "      cursor: pointer;\n",
              "      display: none;\n",
              "      fill: #1967D2;\n",
              "      height: 32px;\n",
              "      padding: 0 0 0 0;\n",
              "      width: 32px;\n",
              "    }\n",
              "\n",
              "    .colab-df-convert:hover {\n",
              "      background-color: #E2EBFA;\n",
              "      box-shadow: 0px 1px 2px rgba(60, 64, 67, 0.3), 0px 1px 3px 1px rgba(60, 64, 67, 0.15);\n",
              "      fill: #174EA6;\n",
              "    }\n",
              "\n",
              "    [theme=dark] .colab-df-convert {\n",
              "      background-color: #3B4455;\n",
              "      fill: #D2E3FC;\n",
              "    }\n",
              "\n",
              "    [theme=dark] .colab-df-convert:hover {\n",
              "      background-color: #434B5C;\n",
              "      box-shadow: 0px 1px 3px 1px rgba(0, 0, 0, 0.15);\n",
              "      filter: drop-shadow(0px 1px 2px rgba(0, 0, 0, 0.3));\n",
              "      fill: #FFFFFF;\n",
              "    }\n",
              "  </style>\n",
              "\n",
              "      <script>\n",
              "        const buttonEl =\n",
              "          document.querySelector('#df-d54e5d5d-5263-4ef6-b597-07e71181258a button.colab-df-convert');\n",
              "        buttonEl.style.display =\n",
              "          google.colab.kernel.accessAllowed ? 'block' : 'none';\n",
              "\n",
              "        async function convertToInteractive(key) {\n",
              "          const element = document.querySelector('#df-d54e5d5d-5263-4ef6-b597-07e71181258a');\n",
              "          const dataTable =\n",
              "            await google.colab.kernel.invokeFunction('convertToInteractive',\n",
              "                                                     [key], {});\n",
              "          if (!dataTable) return;\n",
              "\n",
              "          const docLinkHtml = 'Like what you see? Visit the ' +\n",
              "            '<a target=\"_blank\" href=https://colab.research.google.com/notebooks/data_table.ipynb>data table notebook</a>'\n",
              "            + ' to learn more about interactive tables.';\n",
              "          element.innerHTML = '';\n",
              "          dataTable['output_type'] = 'display_data';\n",
              "          await google.colab.output.renderOutput(dataTable, element);\n",
              "          const docLink = document.createElement('div');\n",
              "          docLink.innerHTML = docLinkHtml;\n",
              "          element.appendChild(docLink);\n",
              "        }\n",
              "      </script>\n",
              "    </div>\n",
              "  </div>\n",
              "  "
            ]
          },
          "metadata": {},
          "execution_count": 24
        }
      ]
    },
    {
      "cell_type": "code",
      "source": [
        "df['age']= df['Birthyear'].apply(lambda x: 2022-x)\n",
        "df"
      ],
      "metadata": {
        "colab": {
          "base_uri": "https://localhost:8080/",
          "height": 175
        },
        "id": "aDWC2XhodGJ5",
        "outputId": "64bc1665-b18f-4ba2-a15b-8b239431ebeb"
      },
      "execution_count": null,
      "outputs": [
        {
          "output_type": "execute_result",
          "data": {
            "text/plain": [
              "   Name    Status  Birthyear  age\n",
              "0  Luke    Father       1976   46\n",
              "1  Gina    Mother       1984   38\n",
              "2   Sam       Son       2013    9\n",
              "3  Emma  Daughter       2016    6"
            ],
            "text/html": [
              "\n",
              "  <div id=\"df-b3e20622-68d8-42dc-99ab-28b010778f45\">\n",
              "    <div class=\"colab-df-container\">\n",
              "      <div>\n",
              "<style scoped>\n",
              "    .dataframe tbody tr th:only-of-type {\n",
              "        vertical-align: middle;\n",
              "    }\n",
              "\n",
              "    .dataframe tbody tr th {\n",
              "        vertical-align: top;\n",
              "    }\n",
              "\n",
              "    .dataframe thead th {\n",
              "        text-align: right;\n",
              "    }\n",
              "</style>\n",
              "<table border=\"1\" class=\"dataframe\">\n",
              "  <thead>\n",
              "    <tr style=\"text-align: right;\">\n",
              "      <th></th>\n",
              "      <th>Name</th>\n",
              "      <th>Status</th>\n",
              "      <th>Birthyear</th>\n",
              "      <th>age</th>\n",
              "    </tr>\n",
              "  </thead>\n",
              "  <tbody>\n",
              "    <tr>\n",
              "      <th>0</th>\n",
              "      <td>Luke</td>\n",
              "      <td>Father</td>\n",
              "      <td>1976</td>\n",
              "      <td>46</td>\n",
              "    </tr>\n",
              "    <tr>\n",
              "      <th>1</th>\n",
              "      <td>Gina</td>\n",
              "      <td>Mother</td>\n",
              "      <td>1984</td>\n",
              "      <td>38</td>\n",
              "    </tr>\n",
              "    <tr>\n",
              "      <th>2</th>\n",
              "      <td>Sam</td>\n",
              "      <td>Son</td>\n",
              "      <td>2013</td>\n",
              "      <td>9</td>\n",
              "    </tr>\n",
              "    <tr>\n",
              "      <th>3</th>\n",
              "      <td>Emma</td>\n",
              "      <td>Daughter</td>\n",
              "      <td>2016</td>\n",
              "      <td>6</td>\n",
              "    </tr>\n",
              "  </tbody>\n",
              "</table>\n",
              "</div>\n",
              "      <button class=\"colab-df-convert\" onclick=\"convertToInteractive('df-b3e20622-68d8-42dc-99ab-28b010778f45')\"\n",
              "              title=\"Convert this dataframe to an interactive table.\"\n",
              "              style=\"display:none;\">\n",
              "        \n",
              "  <svg xmlns=\"http://www.w3.org/2000/svg\" height=\"24px\"viewBox=\"0 0 24 24\"\n",
              "       width=\"24px\">\n",
              "    <path d=\"M0 0h24v24H0V0z\" fill=\"none\"/>\n",
              "    <path d=\"M18.56 5.44l.94 2.06.94-2.06 2.06-.94-2.06-.94-.94-2.06-.94 2.06-2.06.94zm-11 1L8.5 8.5l.94-2.06 2.06-.94-2.06-.94L8.5 2.5l-.94 2.06-2.06.94zm10 10l.94 2.06.94-2.06 2.06-.94-2.06-.94-.94-2.06-.94 2.06-2.06.94z\"/><path d=\"M17.41 7.96l-1.37-1.37c-.4-.4-.92-.59-1.43-.59-.52 0-1.04.2-1.43.59L10.3 9.45l-7.72 7.72c-.78.78-.78 2.05 0 2.83L4 21.41c.39.39.9.59 1.41.59.51 0 1.02-.2 1.41-.59l7.78-7.78 2.81-2.81c.8-.78.8-2.07 0-2.86zM5.41 20L4 18.59l7.72-7.72 1.47 1.35L5.41 20z\"/>\n",
              "  </svg>\n",
              "      </button>\n",
              "      \n",
              "  <style>\n",
              "    .colab-df-container {\n",
              "      display:flex;\n",
              "      flex-wrap:wrap;\n",
              "      gap: 12px;\n",
              "    }\n",
              "\n",
              "    .colab-df-convert {\n",
              "      background-color: #E8F0FE;\n",
              "      border: none;\n",
              "      border-radius: 50%;\n",
              "      cursor: pointer;\n",
              "      display: none;\n",
              "      fill: #1967D2;\n",
              "      height: 32px;\n",
              "      padding: 0 0 0 0;\n",
              "      width: 32px;\n",
              "    }\n",
              "\n",
              "    .colab-df-convert:hover {\n",
              "      background-color: #E2EBFA;\n",
              "      box-shadow: 0px 1px 2px rgba(60, 64, 67, 0.3), 0px 1px 3px 1px rgba(60, 64, 67, 0.15);\n",
              "      fill: #174EA6;\n",
              "    }\n",
              "\n",
              "    [theme=dark] .colab-df-convert {\n",
              "      background-color: #3B4455;\n",
              "      fill: #D2E3FC;\n",
              "    }\n",
              "\n",
              "    [theme=dark] .colab-df-convert:hover {\n",
              "      background-color: #434B5C;\n",
              "      box-shadow: 0px 1px 3px 1px rgba(0, 0, 0, 0.15);\n",
              "      filter: drop-shadow(0px 1px 2px rgba(0, 0, 0, 0.3));\n",
              "      fill: #FFFFFF;\n",
              "    }\n",
              "  </style>\n",
              "\n",
              "      <script>\n",
              "        const buttonEl =\n",
              "          document.querySelector('#df-b3e20622-68d8-42dc-99ab-28b010778f45 button.colab-df-convert');\n",
              "        buttonEl.style.display =\n",
              "          google.colab.kernel.accessAllowed ? 'block' : 'none';\n",
              "\n",
              "        async function convertToInteractive(key) {\n",
              "          const element = document.querySelector('#df-b3e20622-68d8-42dc-99ab-28b010778f45');\n",
              "          const dataTable =\n",
              "            await google.colab.kernel.invokeFunction('convertToInteractive',\n",
              "                                                     [key], {});\n",
              "          if (!dataTable) return;\n",
              "\n",
              "          const docLinkHtml = 'Like what you see? Visit the ' +\n",
              "            '<a target=\"_blank\" href=https://colab.research.google.com/notebooks/data_table.ipynb>data table notebook</a>'\n",
              "            + ' to learn more about interactive tables.';\n",
              "          element.innerHTML = '';\n",
              "          dataTable['output_type'] = 'display_data';\n",
              "          await google.colab.output.renderOutput(dataTable, element);\n",
              "          const docLink = document.createElement('div');\n",
              "          docLink.innerHTML = docLinkHtml;\n",
              "          element.appendChild(docLink);\n",
              "        }\n",
              "      </script>\n",
              "    </div>\n",
              "  </div>\n",
              "  "
            ]
          },
          "metadata": {},
          "execution_count": 25
        }
      ]
    },
    {
      "cell_type": "markdown",
      "source": [
        "Vigenere Cipher"
      ],
      "metadata": {
        "id": "3pjc1_A_dzIe"
      }
    },
    {
      "cell_type": "code",
      "source": [
        "string = \"GEEKSFORGEEKS\"\n",
        "keyword = \"SHARAN\""
      ],
      "metadata": {
        "id": "aI1PZZlndJeO"
      },
      "execution_count": null,
      "outputs": []
    },
    {
      "cell_type": "code",
      "source": [
        "def generateKey(string, key):\n",
        "    key = list(key)\n",
        "    if len(string) == len(key):\n",
        "        return(key)\n",
        "    else:\n",
        "        for i in range(len(string) - len(key)):\n",
        "            key.append(key[i % len(key)])\n",
        "    return(\"\" . join(key))"
      ],
      "metadata": {
        "id": "FjrJjdi0eJC6"
      },
      "execution_count": null,
      "outputs": []
    },
    {
      "cell_type": "code",
      "source": [
        "def encrypt_cipherText(string, key):\n",
        "    cipher_text = []\n",
        "    for i in range(len(string)):\n",
        "        x = ((ord(string[i]) + ord(key[i])) % 26)+ord('A')\n",
        "        cipher_text.append(chr(x))\n",
        "    return(\"\" . join(cipher_text))"
      ],
      "metadata": {
        "id": "fHHoMWmNeMbP"
      },
      "execution_count": null,
      "outputs": []
    },
    {
      "cell_type": "code",
      "source": [
        "key = generateKey(string, keyword)"
      ],
      "metadata": {
        "id": "YR_q7VirePXL"
      },
      "execution_count": null,
      "outputs": []
    },
    {
      "cell_type": "code",
      "source": [
        "print(\"Original Message\",string)\n",
        "print(\"Keyword:\", keyword)\n",
        "cipher_text = encrypt_cipherText(string,key)\n",
        "print(\"Ciphertext :\", cipher_text)"
      ],
      "metadata": {
        "colab": {
          "base_uri": "https://localhost:8080/"
        },
        "id": "SN44AB0FeUCj",
        "outputId": "a6510a9b-a5ba-418f-9f73-9c5a4fcf09b0"
      },
      "execution_count": null,
      "outputs": [
        {
          "output_type": "stream",
          "name": "stdout",
          "text": [
            "Original Message GEEKSFORGEEKS\n",
            "Keyword: SHARAN\n",
            "Ciphertext : YLEBSSGYGVEXK\n"
          ]
        }
      ]
    },
    {
      "cell_type": "code",
      "source": [
        "def decrypt_originalText(cipher_text, key):\n",
        "    orig_text = []\n",
        "    for i in range(len(cipher_text)):\n",
        "        x =( (ord(cipher_text[i]) - ord(key[i])) % 26 ) +ord('A')\n",
        "        orig_text.append(chr(x))\n",
        "    return(\"\" . join(orig_text))"
      ],
      "metadata": {
        "id": "Fn9ZH7XXeY2i"
      },
      "execution_count": null,
      "outputs": []
    },
    {
      "cell_type": "code",
      "source": [
        "key = generateKey(string, keyword)"
      ],
      "metadata": {
        "id": "6Lmi5fXWeZcG"
      },
      "execution_count": null,
      "outputs": []
    },
    {
      "cell_type": "code",
      "source": [
        "cipher_text = encrypt_cipherText(string,key)"
      ],
      "metadata": {
        "id": "pNyc2O0Sebnl"
      },
      "execution_count": null,
      "outputs": []
    },
    {
      "cell_type": "code",
      "source": [
        "print(\"Ciphertext :\", cipher_text)\n",
        "print(\"Original/Decrypted Text :\",decrypt_originalText(cipher_text, key))"
      ],
      "metadata": {
        "colab": {
          "base_uri": "https://localhost:8080/"
        },
        "id": "MT_tWTifeeAB",
        "outputId": "653b7b46-3682-413f-f361-36229642d92a"
      },
      "execution_count": null,
      "outputs": [
        {
          "output_type": "stream",
          "name": "stdout",
          "text": [
            "Ciphertext : YLEBSSGYGVEXK\n",
            "Original/Decrypted Text : GEEKSFORGEEKS\n"
          ]
        }
      ]
    },
    {
      "cell_type": "markdown",
      "source": [
        "Diffie Hellman"
      ],
      "metadata": {
        "id": "7_jBRth6-xnn"
      }
    },
    {
      "cell_type": "code",
      "source": [
        "print(\"Both parties agree to a single prime\")\n",
        "prime = int(input(\"Enter the prime number to be considered: \"))\n",
        "\n",
        "# primitives root to be used use\n",
        "print(\"Both must agree with single primitive root to use\")\n",
        "root = int(input(\"Enter the primitive root: \"))"
      ],
      "metadata": {
        "colab": {
          "base_uri": "https://localhost:8080/"
        },
        "id": "UdEAttiq-0pK",
        "outputId": "38f4093a-7db3-4c39-df12-44729ab4031d"
      },
      "execution_count": 3,
      "outputs": [
        {
          "name": "stdout",
          "output_type": "stream",
          "text": [
            "Both parties agree to a single prime\n",
            "Enter the prime number to be considered: 31\n",
            "Both must agree with single primitive root to use\n",
            "Enter the primitive root: 11\n"
          ]
        }
      ]
    },
    {
      "cell_type": "code",
      "source": [
        "# party 1 chooses a secret number\n",
        "alicesecret = int(input(\"Enter a secret number for Party1: \"))\n",
        "# Party 2 chooses a secret number (bs)\n",
        "bobssecret = int(input(\"Enter a secret number for Party2: \"))"
      ],
      "metadata": {
        "colab": {
          "base_uri": "https://localhost:8080/"
        },
        "id": "vtOkecVG-2Eo",
        "outputId": "ed269603-9e56-43cd-eb95-b039cc4ab840"
      },
      "execution_count": 4,
      "outputs": [
        {
          "name": "stdout",
          "output_type": "stream",
          "text": [
            "Enter a secret number for Party1: 98\n",
            "Enter a secret number for Party2: 60\n"
          ]
        }
      ]
    },
    {
      "cell_type": "code",
      "source": [
        "print(\"Party1's public key -> A = root^alicesecre*mod(prime)\")\n",
        "alicepublic = (root**alicesecret)%prime\n",
        "print(\"Party1 public key is: \",alicepublic,\"\\n\")\n",
        "\n",
        "print(\"Party2's public key -> B = root^alicesecre*mod(prime)\")\n",
        "bobpublic = (root**bobssecret)%prime\n",
        "print(\"Party2 public key is: \",bobpublic,\"\\n\")"
      ],
      "metadata": {
        "colab": {
          "base_uri": "https://localhost:8080/"
        },
        "id": "Fg3wH_kh-4vg",
        "outputId": "0c2b86f3-d8dc-4882-bd9b-adadaaa52c55"
      },
      "execution_count": 5,
      "outputs": [
        {
          "output_type": "stream",
          "name": "stdout",
          "text": [
            "Party1's public key -> A = root^alicesecre*mod(prime)\n",
            "Party1 public key is:  19 \n",
            "\n",
            "Party2's public key -> B = root^alicesecre*mod(prime)\n",
            "Party2 public key is:  1 \n",
            "\n"
          ]
        }
      ]
    },
    {
      "cell_type": "code",
      "source": [
        "print(\"Party1 calculates the shared key as K=B^alicesecret*(mod(prime))\")\n",
        "alicekey=(bobpublic**alicesecret)%prime\n",
        "print(\"Party1 calculates the shared key and results: \",alicekey,\"\\n\")"
      ],
      "metadata": {
        "colab": {
          "base_uri": "https://localhost:8080/"
        },
        "id": "XpFI1nyC-7mt",
        "outputId": "5b5679d2-6867-451a-ce15-6bc7095035bc"
      },
      "execution_count": 6,
      "outputs": [
        {
          "output_type": "stream",
          "name": "stdout",
          "text": [
            "Party1 calculates the shared key as K=B^alicesecret*(mod(prime))\n",
            "Party1 calculates the shared key and results:  1 \n",
            "\n"
          ]
        }
      ]
    },
    {
      "cell_type": "code",
      "source": [
        "print(\"Party2 calculates the shared key as K=A^bobsecret*(mod(prime))\")\n",
        "bobkey=(alicepublic**bobssecret)%prime\n",
        "print(\"Party2 calculates the shared key and results: \",bobkey,\"\\n\")"
      ],
      "metadata": {
        "colab": {
          "base_uri": "https://localhost:8080/"
        },
        "id": "XXJ5_o4Q--UD",
        "outputId": "d58aa31a-f7b3-4e19-e284-c392ee7e9c49"
      },
      "execution_count": 7,
      "outputs": [
        {
          "output_type": "stream",
          "name": "stdout",
          "text": [
            "Party2 calculates the shared key as K=A^bobsecret*(mod(prime))\n",
            "Party2 calculates the shared key and results:  1 \n",
            "\n"
          ]
        }
      ]
    }
  ]
}